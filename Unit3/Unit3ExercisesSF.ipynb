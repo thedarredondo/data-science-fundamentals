{
  "nbformat": 4,
  "nbformat_minor": 0,
  "metadata": {
    "colab": {
      "provenance": [],
      "authorship_tag": "ABX9TyN7x9x5GojIjkE+T37H7S3c",
      "include_colab_link": true
    },
    "kernelspec": {
      "name": "python3",
      "display_name": "Python 3"
    },
    "language_info": {
      "name": "python"
    }
  },
  "cells": [
    {
      "cell_type": "markdown",
      "metadata": {
        "id": "view-in-github",
        "colab_type": "text"
      },
      "source": [
        "<a href=\"https://colab.research.google.com/github/thedarredondo/data-science-fundamentals/blob/main/Unit3/Unit3ExercisesSF.ipynb\" target=\"_parent\"><img src=\"https://colab.research.google.com/assets/colab-badge.svg\" alt=\"Open In Colab\"/></a>"
      ]
    },
    {
      "cell_type": "code",
      "execution_count": null,
      "metadata": {
        "id": "yjgtRRI4vpmI"
      },
      "outputs": [],
      "source": [
        "!pip install preliz"
      ]
    },
    {
      "cell_type": "code",
      "source": [
        "import preliz as pz"
      ],
      "metadata": {
        "id": "bzVwN8J4fd-q"
      },
      "execution_count": null,
      "outputs": []
    },
    {
      "cell_type": "markdown",
      "source": [
        "# Unit 3 Exercises: Delightfully Diverse Distirbutions\n",
        "\n",
        "Use these exercises as a chance to explore the probability distributions (dists) from the pymc and preliz libraries. [Moments](https://en.wikipedia.org/wiki/Moment_(mathematics)), the main subject of these exercises, are a great way to describe dists, but there's another  way: [maximum entropy](https://en.wikipedia.org/wiki/Maximum_entropy_probability_distribution#Other_examples), which, although important, we will not cover in detail.\n",
        "\n",
        "Here's what we'll cover in this Unit's exercises:\n",
        "- The first four moments: mean, variance, skew, and kurtosis, as well as the support.\n",
        "- Single variable continuous distributions.\n",
        "- Single variable discrete distriutions\n",
        "\n",
        "\n",
        "Why do we need to know this stuff? Two reasons:\n",
        "- Probability distributions are required to set priors and likelihoods in pymc.\n",
        "- Randomness and uncertainty are not well defined mathematically, but probability and probability distributions are.\n",
        "\n",
        "With that in mind, think of these exercises as an oppurtunity to explore the ways we can be uncertain, or the ways things can be random."
      ],
      "metadata": {
        "id": "Bm-W3g2bwXw_"
      }
    },
    {
      "cell_type": "markdown",
      "source": [
        "## The First Four Moments: Mean, Variance, Skew, and Kurtosis\n",
        "\n",
        "When we talk about a probablity dist, we often care about at four things:\n",
        "- The expected value, or where a distribution is centered (mean)\n",
        "- The amount of variation from that centered value (variation)\n",
        "- Whether or not our distribution favors, leans towards, or skews towards certain values. (skew)\n",
        "- How often to expect unusually high or low values. (kurtosis)"
      ],
      "metadata": {
        "id": "WcGFPKwmhs0c"
      }
    },
    {
      "cell_type": "markdown",
      "source": [
        "### Playing with Beta"
      ],
      "metadata": {
        "id": "WnlylLtu7ufy"
      }
    },
    {
      "cell_type": "markdown",
      "source": [
        "**Task1**:\n",
        "\n",
        "Plot a [preliZ Beta distribution](https://preliz.readthedocs.io/en/latest/api_reference.html#preliz.distributions.beta.Beta) with $α=1$ and $β=1$."
      ],
      "metadata": {
        "id": "Lhc2olTakfgn"
      }
    },
    {
      "cell_type": "markdown",
      "source": [
        "**Task2**:\n",
        "\n",
        "Find the mean, variance, skew, and kurtosis of a $Beta(1,1)$ distribution. This is the same as asking for the first four moments of a $Beta(1,1)$ distribution.\n",
        "\n",
        "*Hint*: preliZ has built in function that does this for you."
      ],
      "metadata": {
        "id": "ij00K6IClPo6"
      }
    },
    {
      "cell_type": "markdown",
      "source": [
        "**Task3**:\n",
        "\n",
        "Plot the following distributions on seperate graphs: $Beta(1,1)$, $Beta(0.9,0.9)$, $Beta(2,1)$, $Beta(1,2)$, $Beta(7,11)$, $Beta(96,42)$, $Beta(5,5)$, $Beta(500,500)$, $Beta(0.8,0.9)$.\n",
        "\n",
        "Then, determine which of those distribtuions has:\n",
        "- the largest/smallest mean\n",
        "- the largest/smallest variance\n",
        "- the largest/smallest skew\n",
        "- the largest/smallest kurtosis\n",
        "\n",
        "and show the code you used to find that information."
      ],
      "metadata": {
        "id": "W5ZWsd2UmieT"
      }
    },
    {
      "cell_type": "markdown",
      "source": [
        "###Playing with other Continuous Distributions\n",
        "\n",
        "For the remaining tasks, make sure to continue to use the [preliZ documentation](https://preliz.readthedocs.io/en/latest/api_reference.html).\n",
        "\n",
        "The [wikipedia pages for each of the probability distributions](https://en.wikipedia.org/wiki/List_of_probability_distributions) are also great resources.\n",
        "\n",
        "[Wolfram Alpha](https://www.wolframalpha.com/examples/mathematics/probability/probability-distributions) is another great resource as well."
      ],
      "metadata": {
        "id": "3r_QA0G37_3E"
      }
    },
    {
      "cell_type": "markdown",
      "source": [
        "**Task4**:\n",
        "\n",
        "Plot the pdfs of each of the following distributions on the same graph: $Normal(μ=0,σ=1)$, $StudentT(ν=5,μ=0,σ=1)$\n",
        "\n",
        "Then, plot these on the same graph: $Exponential(λ=1/2)$, $Gamma(α=2,β=1)$, $HalfStudentT(ν=5,σ1)$\n",
        "\n",
        "For the t distribution and half t, use\n",
        "\n",
        "```\n",
        "support=(-4,4)\n",
        "```\n",
        "and\n",
        "```\n",
        "support=(0,-4)\n",
        "```\n",
        "respectively, inside the plot_pdf function.\n"
      ],
      "metadata": {
        "id": "ib8wI12i8HfE"
      }
    },
    {
      "cell_type": "markdown",
      "source": [
        "**Task5:**\n",
        "\n",
        "Find the first four moments of the the distributions from Task4. Then,\n",
        "\n",
        "Determine which of those five dsitributions has the largest and smallest: mean, variance, skew, and kurtosis.\n",
        "\n",
        "Those distributions are repeated here for conveniencce: $Normal(μ=0,σ=1)$, $StudentT(ν=5,μ=0,σ=1)$,  $Exponential(λ=1/2)$, $Gamma(α=2,β=1)$, $HalfStudentT(ν=5,σ=1)$"
      ],
      "metadata": {
        "id": "RldlYjWgyvMp"
      }
    },
    {
      "cell_type": "markdown",
      "source": [
        "**Task6**:\n",
        "\n",
        "What x values do the Exponenital, Gamma, HalfSutdentT, and HalfNormal functions support? Why plot them on the same graph?\n",
        "\n",
        "What x values do the Normal and T distribution support? Why plot them on the same graph?\n",
        "\n",
        "What x values does the Beta distribution support?"
      ],
      "metadata": {
        "id": "CB83p_TNEtYD"
      }
    },
    {
      "cell_type": "markdown",
      "source": [
        "**Task7**:\n",
        "\n",
        "Can a distribution with support $[0,∞]$ have negative (or left) skew? If so, plot that specific distribution."
      ],
      "metadata": {
        "id": "-UM75uMZFmwE"
      }
    },
    {
      "cell_type": "markdown",
      "source": [
        "**Task8**:\n",
        "\n",
        "Name a distribution that supports the real numbers with variance equal to 1, 0 skew, and 0 kurtosis."
      ],
      "metadata": {
        "id": "1fqz2-fsGkHK"
      }
    },
    {
      "cell_type": "markdown",
      "source": [
        "**Task9**:\n",
        "\n",
        "Name a distribution with support $(-∞,∞)$ and that has negative skew."
      ],
      "metadata": {
        "id": "PQpSgPgVVW7n"
      }
    },
    {
      "cell_type": "markdown",
      "source": [
        "**Optional Task**:\n",
        "\n",
        "What are the maximum entropy conditions for the normal and gamma distributions?"
      ],
      "metadata": {
        "id": "zg2gUNy9Sawk"
      }
    },
    {
      "cell_type": "markdown",
      "source": [
        "###Playing with Discrete Distributions"
      ],
      "metadata": {
        "id": "saPwJmhpKDR3"
      }
    },
    {
      "cell_type": "markdown",
      "source": [
        "**Task9**:\n",
        "\n",
        "Plot the pdfs (techincally the pmfs) of the following distributions: $Bernoulli(p=0.7)$, $Binomial(n=10,p=0.7)$, $Poisson(μ=7)$, $Geometric(p=0.7)$, $HyperGeometric(N=50,k=35,n=15)$, $Categorical(p=[0.05,0.3,0.05,0.1,0.2,0.4])$\n",
        "\n",
        "Additionally, compute the first four moments for all those distributions--except the Categorical distribution."
      ],
      "metadata": {
        "id": "IPxoWt3BKHxD"
      }
    },
    {
      "cell_type": "markdown",
      "source": [
        "**Task10**:\n",
        "\n",
        "Describe what processes \"generate\" each of the previous discrete distributions models. Also report their support.\n",
        "\n",
        "Here's a spicier way to phrase the question: describe these distributions' maximum entropy conditions in english.\n",
        "\n",
        "Hint: Make sure to read any of the: preliZ documentation, relevant wikipedia articles, or wolfram alpha.\n"
      ],
      "metadata": {
        "id": "fUtBkO1oFTou"
      }
    }
  ]
}